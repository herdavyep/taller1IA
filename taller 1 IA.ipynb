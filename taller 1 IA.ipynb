{
 "cells": [
  {
   "cell_type": "code",
   "execution_count": 5,
   "metadata": {},
   "outputs": [
    {
     "name": "stdout",
     "output_type": "stream",
     "text": [
      "MEDIANA\n",
      "[1, 1, 2, 2, 2, 3, 4, 5, 6, 7, 8, 9]\n",
      "Mediana es =  3\n"
     ]
    }
   ],
   "source": [
    "print (\"MEDIANA\")\n",
    "array = [2,4,6,8,1,3,5,7,9,1,2,2]   \n",
    "array.sort()\n",
    "print(array)\n",
    "if cantidad % 2 == 0:\n",
    "    \n",
    "    mediana = (array[cantidad//2-1] + array[cantidad//2] )//2  \n",
    "else:\n",
    "    mediana = array[cantidad//2]\n",
    "\n",
    "print (\"Mediana es = \",mediana)\n",
    "\n"
   ]
  },
  {
   "cell_type": "code",
   "execution_count": 6,
   "metadata": {},
   "outputs": [
    {
     "name": "stdout",
     "output_type": "stream",
     "text": [
      "MODA\n",
      "[1, 1, 2, 2, 2, 3, 4, 5, 6, 7, 8, 9]\n",
      "moda es =  [2]\n"
     ]
    }
   ],
   "source": [
    "print (\"MODA\")\n",
    "array.sort()\n",
    "print(array)\n",
    "CantidadFrecuencia = 0\n",
    "for i in array:                                                                 \n",
    "    encontrado = array.count(i)                                                \n",
    "    if encontrado > CantidadFrecuencia:                                              \n",
    "        CantidadFrecuencia = encontrado                                              \n",
    "\n",
    "moda = []  \n",
    "\n",
    "for i in array:                                                                 \n",
    "    encontrado = array.count(i)                                                \n",
    "\n",
    "    if encontrado == CantidadFrecuencia and i not in moda:                          \n",
    "        moda.append(i)\n",
    "       \n",
    "print (\"moda es = \", moda)  \n",
    "\n"
   ]
  },
  {
   "cell_type": "code",
   "execution_count": 7,
   "metadata": {},
   "outputs": [
    {
     "name": "stdout",
     "output_type": "stream",
     "text": [
      "PROMEDIO\n",
      "12 elementos que suman 50 y promediandolos dan como resultado es =  4.166666666666667\n"
     ]
    }
   ],
   "source": [
    "print (\"PROMEDIO\")\n",
    "suma =  sum(array)\n",
    "cantidad = len(array)\n",
    "promedio = suma/cantidad  \n",
    "\n",
    "print (cantidad,\"elementos que suman\",suma, \"y promediandolos dan como resultado es = \",promedio)\n",
    "\n"
   ]
  },
  {
   "cell_type": "code",
   "execution_count": 8,
   "metadata": {},
   "outputs": [
    {
     "name": "stdout",
     "output_type": "stream",
     "text": [
      "varianza es =  7.138888888888889\n"
     ]
    }
   ],
   "source": [
    "print (\"VARIANZA\")\n",
    "def sumaDatos(datos):\n",
    "    total = 0\n",
    "    for grado in datos:\n",
    "        total += grado\n",
    "    return total\n",
    "\n",
    "def promedioDatos(datos):\n",
    "    suma_datos = sumaDatos(datos)\n",
    "    promedio = float(suma_datos) / len(datos)\n",
    "    return promedio\n",
    "\n",
    "def varianzaDatos(datos, promedio):\n",
    "    sumatoria = 0\n",
    "    for dato in datos:\n",
    "        sumatoria += (promedio - float(dato)) ** 2\n",
    "    variance = float(sumatoria) / len(array)\n",
    "    return variance\n",
    "\n",
    "print(\"varianza es = \",varianzaDatos(array, promedioDatos(array)))\n"
   ]
  },
  {
   "cell_type": "code",
   "execution_count": 20,
   "metadata": {},
   "outputs": [
    {
     "name": "stdout",
     "output_type": "stream",
     "text": [
      "DESVIACION ESTANDAR\n",
      "la desviacion estandar es =  2.6718699236468995\n"
     ]
    }
   ],
   "source": [
    "print (\"DESVIACION ESTANDAR\")\n",
    "def sumaDatos(datos):\n",
    "    total = 0\n",
    "    for grado in datos:\n",
    "        total += grado\n",
    "    return total\n",
    "\n",
    "def promedioDatos(datos):\n",
    "    suma_datos = sumaDatos(datos)\n",
    "    promedio = float(suma_datos) / len(datos)\n",
    "    return promedio\n",
    "\n",
    "def varianzaDatos(datos, promedio):\n",
    "    sumatoria = 0\n",
    "    for dato in datos:\n",
    "        sumatoria += (promedio - float(dato)) ** 2\n",
    "    variance = float(sumatoria) / len(array)\n",
    "    return variance\n",
    "\n",
    "print(\"la desviacion estandar es = \",math.sqrt(varianzaDatos(array, promedioDatos(array))))\n"
   ]
  },
  {
   "cell_type": "code",
   "execution_count": 22,
   "metadata": {},
   "outputs": [
    {
     "name": "stdout",
     "output_type": "stream",
     "text": [
      "ingrese un valor5\n",
      "el numero es menor\n",
      "ingrese un valor4\n",
      "el numero es menor\n",
      "ingrese un valor3\n",
      "el numero es menor\n",
      "ingrese un valor2\n",
      "el numero es menor\n",
      "ingrese un valor1\n",
      "el numero es menor\n",
      "ingrese un valor1\n",
      "el numero es menor\n",
      "ingrese un valor0\n",
      "el numero es menor\n",
      "ingrese un valor4\n",
      "el numero es menor\n",
      "ingrese un valor5\n",
      "el numero es menor\n",
      "ingrese un valor8\n",
      "el numero es menor\n",
      "ingrese un valor10\n",
      "el numero es menor\n",
      "ingrese un valor11\n",
      "el numero es menor\n",
      "ingrese un valor12\n",
      "el numero es menor\n",
      "ingrese un valor13\n",
      "el numero es menor\n",
      "ingrese un valor14\n",
      "acertado\n"
     ]
    }
   ],
   "source": [
    "import random as random\n",
    "numero_ale = random.randint(1,15)\n",
    "#print(numero_ale)\n",
    "\n",
    "acertado = True\n",
    "while acertado:\n",
    "    numero=int(input(\"ingrese un valor\"))\n",
    "    if numero > numero_ale:\n",
    "        print(\"el numero es mayor\")\n",
    "        acertado = True\n",
    "\n",
    "    elif(numero < numero_ale):\n",
    "        print(\"el numero es menor\")\n",
    "        acertado = True\n",
    "\n",
    "    else:\n",
    "        print(\"acertado\")\n",
    "        acertado = False"
   ]
  },
  {
   "cell_type": "code",
   "execution_count": null,
   "metadata": {
    "collapsed": true
   },
   "outputs": [],
   "source": []
  }
 ],
 "metadata": {
  "kernelspec": {
   "display_name": "Python 3",
   "language": "python",
   "name": "python3"
  },
  "language_info": {
   "codemirror_mode": {
    "name": "ipython",
    "version": 3
   },
   "file_extension": ".py",
   "mimetype": "text/x-python",
   "name": "python",
   "nbconvert_exporter": "python",
   "pygments_lexer": "ipython3",
   "version": "3.6.3"
  }
 },
 "nbformat": 4,
 "nbformat_minor": 2
}
